{
 "cells": [
  {
   "cell_type": "code",
   "execution_count": 1,
   "metadata": {},
   "outputs": [],
   "source": [
    "import os"
   ]
  },
  {
   "cell_type": "code",
   "execution_count": 2,
   "metadata": {},
   "outputs": [],
   "source": [
    "input_path = '/scratch/sdodl001/ENCODE/scripts/GM12878_eval_job_files/err_log/'\n",
    "out_files = os.listdir(input_path)"
   ]
  },
  {
   "cell_type": "code",
   "execution_count": 5,
   "metadata": {},
   "outputs": [
    {
     "name": "stdout",
     "output_type": "stream",
     "text": [
      "file:  eval_65958.out\n",
      "                        output      auc       acc       tpr       tnr        f1       mcc             n\n",
      "\n",
      "0  cpg/GM12878_WGBS_1_sample_0  0.76233  0.599656  0.937162  0.294358  0.687247  0.296094  99672.887574\n",
      "\n",
      "file:  eval_65980.out\n",
      "                        output      auc      acc       tpr       tnr        f1       mcc             n\n",
      "\n",
      "0  cpg/GM12878_WGBS_1_sample_0  0.77009  0.67631  0.836084  0.528425  0.707385  0.377329  99672.887574\n",
      "\n",
      "file:  eval_65971.out\n",
      "                        output       auc       acc      tpr       tnr        f1       mcc             n\n",
      "\n",
      "0  cpg/GM12878_WGBS_1_sample_0  0.768887  0.677088  0.82043  0.549988  0.704073  0.378496  99672.887574\n",
      "\n",
      "file:  eval_65972.out\n",
      "                        output       auc       acc       tpr       tnr        f1       mcc             n\n",
      "\n",
      "0  cpg/GM12878_WGBS_1_sample_0  0.764538  0.673977  0.823195  0.535878  0.702771  0.369328  99672.887574\n",
      "\n",
      "file:  eval_65977.out\n",
      "                        output       auc       acc       tpr       tnr        f1       mcc             n\n",
      "\n",
      "0  cpg/GM12878_WGBS_1_sample_0  0.741007  0.623129  0.866892  0.409483  0.683725  0.306987  99672.887574\n",
      "\n",
      "file:  eval_65979.out\n",
      "                        output      auc       acc       tpr       tnr        f1       mcc             n\n",
      "\n",
      "0  cpg/GM12878_WGBS_1_sample_0  0.75723  0.676088  0.792674  0.567785  0.696161  0.364769  99672.887574\n",
      "\n",
      "file:  eval_65970.out\n",
      "                        output       auc       acc       tpr       tnr        f1       mcc             n\n",
      "\n",
      "0  cpg/GM12878_WGBS_1_sample_0  0.764026  0.695089  0.709164  0.674599  0.685088  0.383344  99672.887574\n",
      "\n",
      "file:  eval_65961.out\n",
      "                        output       auc       acc       tpr       tnr        f1       mcc             n\n",
      "\n",
      "0  cpg/GM12878_WGBS_1_sample_0  0.770656  0.699355  0.723019  0.670939  0.692518  0.393729  99672.887574\n",
      "\n",
      "file:  eval_65962.out\n",
      "                        output       auc       acc       tpr       tnr        f1       mcc             n\n",
      "\n",
      "0  cpg/GM12878_WGBS_1_sample_0  0.768504  0.646869  0.884966  0.432695  0.701215  0.349705  99672.887574\n",
      "\n",
      "file:  eval_65981.out\n",
      "                        output       auc       acc       tpr       tnr        f1       mcc             n\n",
      "\n",
      "0  cpg/GM12878_WGBS_1_sample_0  0.771728  0.702719  0.664654  0.732736  0.677101  0.397022  99672.887574\n",
      "\n",
      "file:  eval_65968.out\n",
      "                        output       auc       acc      tpr      tnr        f1       mcc             n\n",
      "\n",
      "0  cpg/GM12878_WGBS_1_sample_0  0.778179  0.707104  0.68572  0.72538  0.687408  0.408048  99672.887574\n",
      "\n",
      "file:  eval_65955.out\n",
      "                        output       auc       acc       tpr       tnr        f1       mcc             n\n",
      "\n",
      "0  cpg/GM12878_WGBS_1_sample_0  0.758891  0.674798  0.791578  0.571678  0.695047  0.366953  99672.887574\n",
      "\n",
      "file:  eval_65978.out\n",
      "                        output       auc       acc       tpr       tnr        f1       mcc             n\n",
      "\n",
      "0  cpg/GM12878_WGBS_1_sample_0  0.776573  0.705629  0.699358  0.709388  0.690452  0.405509  99672.887574\n",
      "\n",
      "file:  eval_65973.out\n",
      "file:  eval_65975.out\n",
      "                        output       auc       acc       tpr      tnr        f1       mcc             n\n",
      "\n",
      "0  cpg/GM12878_WGBS_1_sample_0  0.760295  0.693308  0.687553  0.69594  0.677769  0.380478  99672.887574\n",
      "\n",
      "file:  eval_65956.out\n",
      "                        output       auc       acc       tpr       tnr        f1       mcc             n\n",
      "\n",
      "0  cpg/GM12878_WGBS_1_sample_0  0.778567  0.693844  0.804449  0.588149  0.710883  0.398014  99672.887574\n",
      "\n",
      "file:  eval_65965.out\n",
      "file:  eval_65964.out\n",
      "                        output       auc       acc       tpr       tnr        f1       mcc             n\n",
      "\n",
      "0  cpg/GM12878_WGBS_1_sample_0  0.762884  0.661283  0.849637  0.490721  0.701299  0.358417  99672.887574\n",
      "\n",
      "file:  eval_65974.out\n",
      "                        output       auc       acc       tpr       tnr        f1      mcc             n\n",
      "\n",
      "0  cpg/GM12878_WGBS_1_sample_0  0.737586  0.633741  0.343716  0.899079  0.471696  0.29501  99672.887574\n",
      "\n",
      "file:  eval_65966.out\n",
      "file:  eval_65963.out\n",
      "                        output       auc       acc       tpr       tnr        f1       mcc             n\n",
      "\n",
      "0  cpg/GM12878_WGBS_1_sample_0  0.766993  0.667955  0.835078  0.520956  0.702131  0.368428  99672.887574\n",
      "\n",
      "file:  eval_65976.out\n",
      "                        output       auc      acc       tpr       tnr        f1       mcc             n\n",
      "\n",
      "0  cpg/GM12878_WGBS_1_sample_0  0.767363  0.69875  0.704871  0.689401  0.686841  0.391432  99672.887574\n",
      "\n",
      "file:  eval_65957.out\n",
      "                        output       auc       acc       tpr       tnr        f1       mcc             n\n",
      "\n",
      "0  cpg/GM12878_WGBS_1_sample_0  0.769319  0.699037  0.619167  0.766922  0.658645  0.390219  99672.887574\n",
      "\n",
      "file:  eval_65959.out\n",
      "                        output       auc      acc       tpr       tnr        f1       mcc             n\n",
      "\n",
      "0  cpg/GM12878_WGBS_1_sample_0  0.761952  0.68231  0.793359  0.577871  0.700288  0.375376  99672.887574\n",
      "\n",
      "file:  eval_65960.out\n",
      "                        output       auc      acc       tpr       tnr        f1       mcc             n\n",
      "\n",
      "0  cpg/GM12878_WGBS_1_sample_0  0.769443  0.70013  0.637453  0.752759  0.666082  0.391911  99672.887574\n",
      "\n",
      "file:  eval_65967.out\n",
      "                        output       auc      acc       tpr       tnr        f1      mcc             n\n",
      "\n",
      "0  cpg/GM12878_WGBS_1_sample_0  0.773762  0.65864  0.879036  0.456174  0.706629  0.36351  99672.887574\n",
      "\n",
      "file:  eval_65969.out\n",
      "                        output       auc       acc       tpr       tnr        f1       mcc             n\n",
      "\n",
      "0  cpg/GM12878_WGBS_1_sample_0  0.765143  0.692344  0.742107  0.646501  0.693464  0.385557  99672.887574\n",
      "\n"
     ]
    }
   ],
   "source": [
    "for file in os.listdir(input_path):\n",
    "    if (file.endswith('.out')):\n",
    "        print('file: ', file)\n",
    "        f = open(os.path.join(input_path, file))\n",
    "        while True:\n",
    "            # read a single line\n",
    "            line = f.readline()\n",
    "            if not line:\n",
    "                break\n",
    "            print(line)\n",
    "\n",
    "        # close the pointer to that file\n",
    "        f.close()"
   ]
  },
  {
   "cell_type": "code",
   "execution_count": 8,
   "metadata": {},
   "outputs": [
    {
     "data": {
      "text/plain": [
       "<_io.TextIOWrapper name='/scratch/sdodl001/ENCODE/scripts/GM12878_eval_job_files/err_log/eval_65969.out' mode='r' encoding='UTF-8'>"
      ]
     },
     "execution_count": 8,
     "metadata": {},
     "output_type": "execute_result"
    }
   ],
   "source": [
    "f"
   ]
  },
  {
   "cell_type": "code",
   "execution_count": null,
   "metadata": {},
   "outputs": [],
   "source": []
  }
 ],
 "metadata": {
  "kernelspec": {
   "display_name": "Python 3",
   "language": "python",
   "name": "python3"
  },
  "language_info": {
   "codemirror_mode": {
    "name": "ipython",
    "version": 3
   },
   "file_extension": ".py",
   "mimetype": "text/x-python",
   "name": "python",
   "nbconvert_exporter": "python",
   "pygments_lexer": "ipython3",
   "version": "3.7.7"
  }
 },
 "nbformat": 4,
 "nbformat_minor": 4
}
