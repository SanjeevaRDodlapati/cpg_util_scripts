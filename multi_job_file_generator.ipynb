{
 "cells": [
  {
   "cell_type": "code",
   "execution_count": 1,
   "metadata": {},
   "outputs": [],
   "source": [
    "import os\n",
    "import re"
   ]
  },
  {
   "cell_type": "code",
   "execution_count": 2,
   "metadata": {},
   "outputs": [],
   "source": [
    "input_path = '/scratch/sdodl001/ENCODE/scripts/GM12878_ss_eval_job_files/'\n",
    "files = os.listdir(input_path)"
   ]
  },
  {
   "cell_type": "code",
   "execution_count": 3,
   "metadata": {},
   "outputs": [],
   "source": [
    "def multi_job_file(input_path):\n",
    "    job_file_name = 'multi_job.txt'\n",
    "    F = open(input_path+job_file_name, \"w\")\n",
    "    for file in files:\n",
    "        print(file)\n",
    "        F.write('sbatch ')\n",
    "        F.write(file)\n",
    "        F.write(\"\\n\")\n",
    "\n",
    "    F.close()\n",
    "    print('Done')"
   ]
  },
  {
   "cell_type": "code",
   "execution_count": 4,
   "metadata": {},
   "outputs": [
    {
     "name": "stdout",
     "output_type": "stream",
     "text": [
      "dna_0.5_frac_ss_eval.sh\n",
      "dna_0.6_frac_ss_eval.sh\n",
      "dna_0.8_frac_ss_eval.sh\n",
      "multi_job.txt\n",
      "dna_GM12878_1_ss_eval.sh\n",
      "dna_0.4_frac_ss_eval.sh\n",
      "dna_0.9_frac_ss_eval.sh\n",
      "dna_0.7_frac_ss_eval.sh\n",
      "dna_0.2_frac_ss_eval.sh\n",
      "dna_0.1_frac_ss_eval.sh\n",
      "dna_0.3_frac_ss_eval.sh\n",
      "Done\n"
     ]
    }
   ],
   "source": [
    "multi_job_file(input_path)"
   ]
  }
 ],
 "metadata": {
  "kernelspec": {
   "display_name": "Python 3",
   "language": "python",
   "name": "python3"
  },
  "language_info": {
   "codemirror_mode": {
    "name": "ipython",
    "version": 3
   },
   "file_extension": ".py",
   "mimetype": "text/x-python",
   "name": "python",
   "nbconvert_exporter": "python",
   "pygments_lexer": "ipython3",
   "version": "3.7.7"
  }
 },
 "nbformat": 4,
 "nbformat_minor": 4
}
