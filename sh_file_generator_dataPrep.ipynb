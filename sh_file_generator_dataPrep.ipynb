{
 "cells": [
  {
   "cell_type": "code",
   "execution_count": 1,
   "metadata": {},
   "outputs": [],
   "source": [
    "import os"
   ]
  },
  {
   "cell_type": "code",
   "execution_count": 2,
   "metadata": {},
   "outputs": [],
   "source": [
    "sh_file_path = '/scratch/sdodl001/ENCODE/scripts/GM12878_dataPrep_job_files/'"
   ]
  },
  {
   "cell_type": "code",
   "execution_count": 3,
   "metadata": {},
   "outputs": [],
   "source": [
    "data_path = '/scratch/sdodl001/ENCODE/sampled_data/GM12878_2/'\n",
    "folders = os.listdir(data_path)\n",
    "\n",
    "ref_genome_path = '/scratch/sdodl001/ENCODE/ref_genome/*.dna.*.fa.gz'\n"
   ]
  },
  {
   "cell_type": "code",
   "execution_count": 4,
   "metadata": {},
   "outputs": [],
   "source": [
    "def make_dir(dir_path):\n",
    "    if not os.path.exists(dir_path):\n",
    "        print(f'Created {dir_path} directory')\n",
    "        os.makedirs(dir_path)"
   ]
  },
  {
   "cell_type": "code",
   "execution_count": 5,
   "metadata": {},
   "outputs": [
    {
     "name": "stdout",
     "output_type": "stream",
     "text": [
      "data_output_folder:  0.2_frac_3_ds_input 0.2_frac_3_ds.sh\n",
      "data_output_folder:  0.4_frac_4_ds_input 0.4_frac_4_ds.sh\n",
      "data_output_folder:  0.1_frac_5_ds_input 0.1_frac_5_ds.sh\n",
      "data_output_folder:  0.4_frac_5_ds_input 0.4_frac_5_ds.sh\n",
      "data_output_folder:  0.1_frac_2_ds_input 0.1_frac_2_ds.sh\n",
      "data_output_folder:  .05_frac_3_ds_input .05_frac_3_ds.sh\n",
      "data_output_folder:  0.8_frac_2_ds_input 0.8_frac_2_ds.sh\n",
      "data_output_folder:  0.3_frac_3_ds_input 0.3_frac_3_ds.sh\n",
      "data_output_folder:  0.3_frac_5_ds_input 0.3_frac_5_ds.sh\n",
      "data_output_folder:  0.1_frac_1_ds_input 0.1_frac_1_ds.sh\n",
      "data_output_folder:  0.4_frac_2_ds_input 0.4_frac_2_ds.sh\n",
      "data_output_folder:  0.5_frac_4_ds_input 0.5_frac_4_ds.sh\n",
      "data_output_folder:  .05_frac_2_ds_input .05_frac_2_ds.sh\n",
      "data_output_folder:  0.9_frac_3_ds_input 0.9_frac_3_ds.sh\n",
      "data_output_folder:  0.3_frac_1_ds_input 0.3_frac_1_ds.sh\n",
      "data_output_folder:  0.6_frac_2_ds_input 0.6_frac_2_ds.sh\n",
      "data_output_folder:  0.5_frac_3_ds_input 0.5_frac_3_ds.sh\n",
      "data_output_folder:  0.8_frac_5_ds_input 0.8_frac_5_ds.sh\n",
      "data_output_folder:  0.9_frac_5_ds_input 0.9_frac_5_ds.sh\n",
      "data_output_folder:  0.5_frac_5_ds_input 0.5_frac_5_ds.sh\n",
      "data_output_folder:  .05_frac_4_ds_input .05_frac_4_ds.sh\n",
      "data_output_folder:  0.4_frac_1_ds_input 0.4_frac_1_ds.sh\n",
      "data_output_folder:  0.8_frac_3_ds_input 0.8_frac_3_ds.sh\n",
      "data_output_folder:  0.5_frac_2_ds_input 0.5_frac_2_ds.sh\n",
      "data_output_folder:  0.4_frac_3_ds_input 0.4_frac_3_ds.sh\n",
      "data_output_folder:  0.3_frac_4_ds_input 0.3_frac_4_ds.sh\n",
      "data_output_folder:  0.9_frac_4_ds_input 0.9_frac_4_ds.sh\n",
      "data_output_folder:  0.5_frac_1_ds_input 0.5_frac_1_ds.sh\n",
      "data_output_folder:  0.9_frac_2_ds_input 0.9_frac_2_ds.sh\n",
      "data_output_folder:  0.7_frac_3_ds_input 0.7_frac_3_ds.sh\n",
      "data_output_folder:  0.3_frac_2_ds_input 0.3_frac_2_ds.sh\n",
      "data_output_folder:  0.1_frac_3_ds_input 0.1_frac_3_ds.sh\n",
      "data_output_folder:  .05_frac_5_ds_input .05_frac_5_ds.sh\n",
      "data_output_folder:  0.8_frac_4_ds_input 0.8_frac_4_ds.sh\n",
      "data_output_folder:  0.2_frac_4_ds_input 0.2_frac_4_ds.sh\n",
      "data_output_folder:  0.1_frac_4_ds_input 0.1_frac_4_ds.sh\n",
      "data_output_folder:  0.9_frac_1_ds_input 0.9_frac_1_ds.sh\n",
      "data_output_folder:  0.2_frac_1_ds_input 0.2_frac_1_ds.sh\n",
      "data_output_folder:  0.7_frac_2_ds_input 0.7_frac_2_ds.sh\n",
      "data_output_folder:  0.6_frac_3_ds_input 0.6_frac_3_ds.sh\n",
      "data_output_folder:  0.2_frac_5_ds_input 0.2_frac_5_ds.sh\n",
      "data_output_folder:  0.7_frac_1_ds_input 0.7_frac_1_ds.sh\n",
      "data_output_folder:  0.6_frac_4_ds_input 0.6_frac_4_ds.sh\n",
      "data_output_folder:  0.7_frac_5_ds_input 0.7_frac_5_ds.sh\n",
      "data_output_folder:  0.6_frac_1_ds_input 0.6_frac_1_ds.sh\n",
      "data_output_folder:  0.2_frac_2_ds_input 0.2_frac_2_ds.sh\n",
      "data_output_folder:  0.6_frac_5_ds_input 0.6_frac_5_ds.sh\n",
      "data_output_folder:  0.8_frac_1_ds_input 0.8_frac_1_ds.sh\n",
      "data_output_folder:  0.7_frac_4_ds_input 0.7_frac_4_ds.sh\n",
      "data_output_folder:  .05_frac_1_ds_input .05_frac_1_ds.sh\n",
      "Done !\n"
     ]
    }
   ],
   "source": [
    "def sh_file_generator_dataPrep(data_path, sh_file_path, ref_genome_path):\n",
    "    folders = os.listdir(data_path)\n",
    "    for folder in folders:\n",
    "        files = os.listdir(data_path+folder)\n",
    "        for file in files:\n",
    "            sh_file_name = file[-17:-4]+'.sh'\n",
    "\n",
    "            data_output_folder = file[-17:-4]+'_input'\n",
    "            make_dir(data_path+data_output_folder)\n",
    "            print('data_output_folder: ', data_output_folder, sh_file_name)\n",
    "\n",
    "            textList = [\"#!/bin/bash -l\", \n",
    "                    \"#SBATCH --ntasks=1\",\n",
    "                    \"#SBATCH -o ./err_log/eval_%j.out\",\n",
    "                    \"#SBATCH -e ./err_log/eval_%j.err\"]\n",
    "\n",
    "\n",
    "            outF = open(sh_file_path+sh_file_name, \"w\")\n",
    "            for line in textList:\n",
    "                # write line to output file\n",
    "                outF.write(line)\n",
    "                outF.write(\"\\n\")\n",
    "\n",
    "            outF.write(\"\\n\")\n",
    "            outF.write(\"\\n\")\n",
    "            outF.write('python -u dcpg_data.py --cpg_profiles ') \n",
    "            outF.write(data_path+folder+'/*.tsv') \n",
    "            outF.write(' --dna_files ')\n",
    "            outF.write(ref_genome_path) \n",
    "            outF.write(' --out_dir ')\n",
    "            outF.write(data_path+data_output_folder) \n",
    "            outF.write(' --dna_wlen 1001 --cpg_wlen 50')\n",
    "            outF.write(\"\\n\")\n",
    "\n",
    "            outF.close()\n",
    "\n",
    "    print('Done !')"
   ]
  },
  {
   "cell_type": "code",
   "execution_count": null,
   "metadata": {},
   "outputs": [],
   "source": []
  }
 ],
 "metadata": {
  "kernelspec": {
   "display_name": "Python 3",
   "language": "python",
   "name": "python3"
  },
  "language_info": {
   "codemirror_mode": {
    "name": "ipython",
    "version": 3
   },
   "file_extension": ".py",
   "mimetype": "text/x-python",
   "name": "python",
   "nbconvert_exporter": "python",
   "pygments_lexer": "ipython3",
   "version": "3.7.7"
  }
 },
 "nbformat": 4,
 "nbformat_minor": 4
}
