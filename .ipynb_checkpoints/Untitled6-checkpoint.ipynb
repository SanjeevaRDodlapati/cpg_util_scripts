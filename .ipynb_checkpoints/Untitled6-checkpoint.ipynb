{
 "cells": [
  {
   "cell_type": "code",
   "execution_count": 2,
   "metadata": {},
   "outputs": [],
   "source": [
    "import os"
   ]
  },
  {
   "cell_type": "code",
   "execution_count": 3,
   "metadata": {},
   "outputs": [],
   "source": [
    "input_path = '/scratch/sdodl001/ENCODE/scripts/GM12878_eval_job_files/err_log/'\n",
    "out_files = os.listdir(input_path)"
   ]
  },
  {
   "cell_type": "code",
   "execution_count": 9,
   "metadata": {},
   "outputs": [
    {
     "name": "stdout",
     "output_type": "stream",
     "text": [
      "file:  eval_65958.out\n",
      "file:  eval_65980.out\n",
      "file:  eval_65971.out\n",
      "file:  eval_65972.out\n",
      "file:  eval_65977.out\n",
      "file:  eval_65979.out\n",
      "file:  eval_65970.out\n",
      "file:  eval_65961.out\n",
      "file:  eval_65962.out\n",
      "file:  eval_65981.out\n",
      "file:  eval_65968.out\n",
      "file:  eval_65955.out\n",
      "file:  eval_65978.out\n",
      "file:  eval_65973.out\n",
      "file:  eval_65975.out\n",
      "file:  eval_65956.out\n",
      "file:  eval_65965.out\n",
      "file:  eval_65964.out\n",
      "file:  eval_65974.out\n",
      "file:  eval_65966.out\n",
      "file:  eval_65963.out\n",
      "file:  eval_65976.out\n",
      "file:  eval_65957.out\n",
      "file:  eval_65959.out\n",
      "file:  eval_65960.out\n",
      "file:  eval_65967.out\n",
      "file:  eval_65969.out\n"
     ]
    }
   ],
   "source": [
    "for file in os.listdir(input_path):\n",
    "    if (file.endswith('.out')):\n",
    "        print('file: ', file)\n",
    "        f = open(os.path.join(input_path, file))"
   ]
  },
  {
   "cell_type": "code",
   "execution_count": 8,
   "metadata": {},
   "outputs": [
    {
     "data": {
      "text/plain": [
       "<_io.TextIOWrapper name='/scratch/sdodl001/ENCODE/scripts/GM12878_eval_job_files/err_log/eval_65969.out' mode='r' encoding='UTF-8'>"
      ]
     },
     "execution_count": 8,
     "metadata": {},
     "output_type": "execute_result"
    }
   ],
   "source": [
    "f"
   ]
  },
  {
   "cell_type": "code",
   "execution_count": null,
   "metadata": {},
   "outputs": [],
   "source": []
  }
 ],
 "metadata": {
  "kernelspec": {
   "display_name": "Python 3",
   "language": "python",
   "name": "python3"
  },
  "language_info": {
   "codemirror_mode": {
    "name": "ipython",
    "version": 3
   },
   "file_extension": ".py",
   "mimetype": "text/x-python",
   "name": "python",
   "nbconvert_exporter": "python",
   "pygments_lexer": "ipython3",
   "version": "3.7.7"
  }
 },
 "nbformat": 4,
 "nbformat_minor": 4
}
