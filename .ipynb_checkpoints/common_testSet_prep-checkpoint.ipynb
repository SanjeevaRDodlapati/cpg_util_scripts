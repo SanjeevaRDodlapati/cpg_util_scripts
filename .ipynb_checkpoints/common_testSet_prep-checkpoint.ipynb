{
 "cells": [
  {
   "cell_type": "code",
   "execution_count": 118,
   "metadata": {},
   "outputs": [],
   "source": [
    "import os\n",
    "import re\n",
    "import h5py as h5\n",
    "import numpy as np\n",
    "import pandas as pd"
   ]
  },
  {
   "cell_type": "code",
   "execution_count": 119,
   "metadata": {},
   "outputs": [],
   "source": [
    "input_path = '/scratch/sdodl001/ENCODE/models/GM12878/dna_0.1_frac_ds/'\n",
    "files = os.listdir(input_path)"
   ]
  },
  {
   "cell_type": "code",
   "execution_count": 135,
   "metadata": {},
   "outputs": [],
   "source": [
    "model_path = '/scratch/sdodl001/ENCODE/models/GM12878/'\n",
    "model_folders = os.listdir(model_path)\n",
    "model_folders.sort()\n",
    "\n",
    "model_out_path = '/scratch/sdodl001/ENCODE/models/GM12878/test_models/'"
   ]
  },
  {
   "cell_type": "code",
   "execution_count": 124,
   "metadata": {},
   "outputs": [],
   "source": [
    "data_path = '/scratch/sdodl001/ENCODE/sampled_data/GM12878_2/test_input_2/'\n",
    "output_path = '/scratch/sdodl001/ENCODE/sampled_data/GM12878_2/test_input/'\n",
    "data_files = os.listdir(data_path)"
   ]
  },
  {
   "cell_type": "code",
   "execution_count": 125,
   "metadata": {},
   "outputs": [],
   "source": [
    "def rename_hdf5_data_group(data_path, output_path):\n",
    "    data_files = os.listdir(data_path)\n",
    "    for file in data_files:\n",
    "        f_in = h5.File(data_path+file, 'r')\n",
    "        chromo = f_in['chromo']\n",
    "        chromo = chromo[:]\n",
    "        dist = f_in['inputs/cpg/GM12878_WGBS_1/dist']\n",
    "        state = f_in['inputs/cpg/GM12878_WGBS_1/state']\n",
    "        dna = f_in['inputs/dna']\n",
    "        outputs = f_in['outputs/cpg/GM12878_WGBS_1']\n",
    "        pos = f_in['pos']\n",
    "        pos = pos[:]\n",
    "\n",
    "        f_out = h5.File(output_path+file, \"a\")                \n",
    "        grp1 = f_out.create_group('inputs')\n",
    "        grp2 = f_out.create_group('outputs')\n",
    "\n",
    "\n",
    "        f_out['chromo'] = chromo\n",
    "        grp1['cpg/GM12878_WGBS_1_sample_0/dist'] = dist[:]\n",
    "        grp1['cpg/GM12878_WGBS_1_sample_0/state'] = state[:]\n",
    "        grp1['dna'] = dna[:]\n",
    "        grp2['cpg/GM12878_WGBS_1_sample_0'] = outputs[:]\n",
    "        f_out['pos'] = pos\n",
    "\n",
    "        f_out.close()\n",
    "        \n",
    "    print('data saved to: ', output_path)"
   ]
  },
  {
   "cell_type": "code",
   "execution_count": 126,
   "metadata": {},
   "outputs": [
    {
     "name": "stdout",
     "output_type": "stream",
     "text": [
      "data saved to:  /scratch/sdodl001/ENCODE/sampled_data/GM12878_2/test_input/\n"
     ]
    }
   ],
   "source": [
    "rename_hdf5_data_group(data_path, output_path)\n"
   ]
  },
  {
   "cell_type": "code",
   "execution_count": 40,
   "metadata": {},
   "outputs": [],
   "source": [
    "def regex_match(start_with, end_with, folder):\n",
    "    m = re.search(start_with+end_with, folder)\n",
    "    if m!=None:\n",
    "        return True\n",
    "    else:\n",
    "        return False"
   ]
  },
  {
   "cell_type": "code",
   "execution_count": 138,
   "metadata": {},
   "outputs": [
    {
     "ename": "RuntimeError",
     "evalue": "Unable to create link (interfile hard links are not allowed)",
     "output_type": "error",
     "traceback": [
      "\u001b[0;31m---------------------------------------------------------------------------\u001b[0m",
      "\u001b[0;31mRuntimeError\u001b[0m                              Traceback (most recent call last)",
      "\u001b[0;32m<ipython-input-138-eed590bc5478>\u001b[0m in \u001b[0;36m<module>\u001b[0;34m\u001b[0m\n\u001b[1;32m     19\u001b[0m \u001b[0;34m\u001b[0m\u001b[0m\n\u001b[1;32m     20\u001b[0m \u001b[0;34m\u001b[0m\u001b[0m\n\u001b[0;32m---> 21\u001b[0;31m                 \u001b[0mgrp1\u001b[0m\u001b[0;34m[\u001b[0m\u001b[0;34m'cpg/GM12878_WGBS_1/cpg/GM12878_WGBS_1'\u001b[0m\u001b[0;34m]\u001b[0m \u001b[0;34m=\u001b[0m \u001b[0mcpg\u001b[0m\u001b[0;34m\u001b[0m\u001b[0;34m\u001b[0m\u001b[0m\n\u001b[0m\u001b[1;32m     22\u001b[0m                 \u001b[0mgrp1\u001b[0m\u001b[0;34m[\u001b[0m\u001b[0;34m'dna'\u001b[0m\u001b[0;34m]\u001b[0m \u001b[0;34m=\u001b[0m \u001b[0mdna\u001b[0m\u001b[0;34m\u001b[0m\u001b[0;34m\u001b[0m\u001b[0m\n\u001b[1;32m     23\u001b[0m                 \u001b[0mgrp2\u001b[0m\u001b[0;34m[\u001b[0m\u001b[0;34m'Adam'\u001b[0m\u001b[0;34m]\u001b[0m \u001b[0;34m=\u001b[0m \u001b[0mAdam\u001b[0m\u001b[0;34m\u001b[0m\u001b[0;34m\u001b[0m\u001b[0m\n",
      "\u001b[0;32m~/virtualenv/wahab/lib/python3.7/site-packages/h5py/_hl/group.py\u001b[0m in \u001b[0;36m__setitem__\u001b[0;34m(self, name, obj)\u001b[0m\n\u001b[1;32m    371\u001b[0m \u001b[0;34m\u001b[0m\u001b[0m\n\u001b[1;32m    372\u001b[0m             \u001b[0;32mif\u001b[0m \u001b[0misinstance\u001b[0m\u001b[0;34m(\u001b[0m\u001b[0mobj\u001b[0m\u001b[0;34m,\u001b[0m \u001b[0mHLObject\u001b[0m\u001b[0;34m)\u001b[0m\u001b[0;34m:\u001b[0m\u001b[0;34m\u001b[0m\u001b[0;34m\u001b[0m\u001b[0m\n\u001b[0;32m--> 373\u001b[0;31m                 \u001b[0mh5o\u001b[0m\u001b[0;34m.\u001b[0m\u001b[0mlink\u001b[0m\u001b[0;34m(\u001b[0m\u001b[0mobj\u001b[0m\u001b[0;34m.\u001b[0m\u001b[0mid\u001b[0m\u001b[0;34m,\u001b[0m \u001b[0mself\u001b[0m\u001b[0;34m.\u001b[0m\u001b[0mid\u001b[0m\u001b[0;34m,\u001b[0m \u001b[0mname\u001b[0m\u001b[0;34m,\u001b[0m \u001b[0mlcpl\u001b[0m\u001b[0;34m=\u001b[0m\u001b[0mlcpl\u001b[0m\u001b[0;34m,\u001b[0m \u001b[0mlapl\u001b[0m\u001b[0;34m=\u001b[0m\u001b[0mself\u001b[0m\u001b[0;34m.\u001b[0m\u001b[0m_lapl\u001b[0m\u001b[0;34m)\u001b[0m\u001b[0;34m\u001b[0m\u001b[0;34m\u001b[0m\u001b[0m\n\u001b[0m\u001b[1;32m    374\u001b[0m \u001b[0;34m\u001b[0m\u001b[0m\n\u001b[1;32m    375\u001b[0m             \u001b[0;32melif\u001b[0m \u001b[0misinstance\u001b[0m\u001b[0;34m(\u001b[0m\u001b[0mobj\u001b[0m\u001b[0;34m,\u001b[0m \u001b[0mSoftLink\u001b[0m\u001b[0;34m)\u001b[0m\u001b[0;34m:\u001b[0m\u001b[0;34m\u001b[0m\u001b[0;34m\u001b[0m\u001b[0m\n",
      "\u001b[0;32mh5py/_objects.pyx\u001b[0m in \u001b[0;36mh5py._objects.with_phil.wrapper\u001b[0;34m()\u001b[0m\n",
      "\u001b[0;32mh5py/_objects.pyx\u001b[0m in \u001b[0;36mh5py._objects.with_phil.wrapper\u001b[0;34m()\u001b[0m\n",
      "\u001b[0;32mh5py/h5o.pyx\u001b[0m in \u001b[0;36mh5py.h5o.link\u001b[0;34m()\u001b[0m\n",
      "\u001b[0;31mRuntimeError\u001b[0m: Unable to create link (interfile hard links are not allowed)"
     ]
    }
   ],
   "source": [
    "\n",
    "########  NOT FINISHED  ###############\n",
    "\n",
    "for folder in model_folders:\n",
    "    if regex_match('^dna', '', folder):\n",
    "        files = os.listdir(model_path+folder)\n",
    "        for file in files:\n",
    "            if file == 'model_weights_val.h5':\n",
    "                file_path = input_path+file\n",
    "                #print(f'model file name is {file_path}')\n",
    "                f = h5.File(file_path, 'r')\n",
    "                cpg = f['model_weights/cpg/GM12878_WGBS_1_sample_0/cpg/GM12878_WGBS_1_sample_0']\n",
    "                dna = f['model_weights/dna']\n",
    "                Adam = f['optimizer_weights/Adam']\n",
    "                training = f['optimizer_weights/training']\n",
    "                outputs = list(model_weights.keys())[0]\n",
    "                \n",
    "                f_out = h5.File(model_out_path+file, \"a\")                \n",
    "                grp1 = f_out.create_group('model_weights')\n",
    "                grp2 = f_out.create_group('optimizer_weights')\n",
    "\n",
    "\n",
    "\n",
    "                grp1['cpg/GM12878_WGBS_1/cpg/GM12878_WGBS_1'] = cpg\n",
    "                grp1['dna'] = dna\n",
    "                grp2['Adam'] = Adam\n",
    "                grp2['training'] = training\n",
    "                \n",
    "                f_out.close()\n",
    "        \n",
    "print('Done !')"
   ]
  },
  {
   "cell_type": "code",
   "execution_count": 131,
   "metadata": {},
   "outputs": [
    {
     "data": {
      "text/plain": [
       "<HDF5 group \"/model_weights/cpg\" (1 members)>"
      ]
     },
     "execution_count": 131,
     "metadata": {},
     "output_type": "execute_result"
    }
   ],
   "source": [
    "cpg"
   ]
  },
  {
   "cell_type": "code",
   "execution_count": 134,
   "metadata": {},
   "outputs": [
    {
     "data": {
      "text/plain": [
       "<HDF5 group \"/model_weights/dna\" (10 members)>"
      ]
     },
     "execution_count": 134,
     "metadata": {},
     "output_type": "execute_result"
    }
   ],
   "source": [
    "dna"
   ]
  },
  {
   "cell_type": "code",
   "execution_count": null,
   "metadata": {},
   "outputs": [],
   "source": []
  }
 ],
 "metadata": {
  "kernelspec": {
   "display_name": "Python 3",
   "language": "python",
   "name": "python3"
  },
  "language_info": {
   "codemirror_mode": {
    "name": "ipython",
    "version": 3
   },
   "file_extension": ".py",
   "mimetype": "text/x-python",
   "name": "python",
   "nbconvert_exporter": "python",
   "pygments_lexer": "ipython3",
   "version": "3.7.7"
  }
 },
 "nbformat": 4,
 "nbformat_minor": 4
}
