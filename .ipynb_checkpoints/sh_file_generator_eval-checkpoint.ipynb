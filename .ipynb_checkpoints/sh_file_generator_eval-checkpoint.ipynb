{
 "cells": [
  {
   "cell_type": "code",
   "execution_count": 67,
   "metadata": {},
   "outputs": [],
   "source": [
    "import os\n",
    "import re\n",
    "from shutil import copyfile\n",
    "import h5py as h5\n",
    "import numpy as np\n",
    "import pandas as pd"
   ]
  },
  {
   "cell_type": "code",
   "execution_count": 68,
   "metadata": {},
   "outputs": [],
   "source": [
    "data_path = '/scratch/sdodl001/ENCODE/sampled_data/GM12878_2/test_input_ss/'\n",
    "files = os.listdir(data_path)\n",
    "\n",
    "src_test_data_path = '/scratch/sdodl001/ENCODE/sampled_data/GM12878_2/dna_GM12878_1_ss_input/'\n",
    "test_data_path = '/scratch/sdodl001/ENCODE/sampled_data/GM12878_2/'\n",
    "\n",
    "\n",
    "sh_file_path = '/scratch/sdodl001/ENCODE/scripts/GM12878_ss_eval_job_files'\n",
    "\n",
    "model_path = '/scratch/sdodl001/ENCODE/models/GM12878/'\n",
    "folders = os.listdir(model_path)\n",
    "folders.sort()\n",
    "\n",
    "out_path = '/scratch/sdodl001/ENCODE/eval/GM12878/'"
   ]
  },
  {
   "cell_type": "code",
   "execution_count": 69,
   "metadata": {},
   "outputs": [
    {
     "data": {
      "text/plain": [
       "260"
      ]
     },
     "execution_count": 69,
     "metadata": {},
     "output_type": "execute_result"
    }
   ],
   "source": [
    "len(files)"
   ]
  },
  {
   "cell_type": "code",
   "execution_count": 70,
   "metadata": {},
   "outputs": [],
   "source": [
    "def move_files(src_path, dest_path):\n",
    "    files = os.listdir(src_path)\n",
    "    for file in files:\n",
    "        copyfile(src_path+file, dest_path+file)\n",
    "    print(f'files moved from {src_path} to {dest_path}')"
   ]
  },
  {
   "cell_type": "code",
   "execution_count": 71,
   "metadata": {},
   "outputs": [],
   "source": [
    "def make_dir(dir_path):\n",
    "    if not os.path.exists(dir_path):\n",
    "        print(f'Created {dir_path} directory')\n",
    "        os.makedirs(dir_path)"
   ]
  },
  {
   "cell_type": "code",
   "execution_count": 72,
   "metadata": {},
   "outputs": [],
   "source": [
    "\n",
    "def regex_match(start_with, end_with, folder):\n",
    "    m = re.search(start_with+end_with, folder)\n",
    "    if m!=None:\n",
    "        return True\n",
    "    else:\n",
    "        return False\n"
   ]
  },
  {
   "cell_type": "code",
   "execution_count": 75,
   "metadata": {},
   "outputs": [],
   "source": [
    "def create_testset(data_path, src_test_data_path):\n",
    "    files = os.listdir(data_path)\n",
    "    make_dir(src_test_data_path)\n",
    "    chroms = ['c2', 'c4', 'c6', 'c8', 'c10', 'c12']\n",
    "    for file in files:\n",
    "        start = file[:3]\n",
    "        if start[2] == '_':\n",
    "            start = start[:2]\n",
    "        if start in chroms:\n",
    "            #copyfile(data_path+file, src_test_data_path+file)\n",
    "            f_in = h5.File(data_path+file, 'r')\n",
    "            chromo = f_in['chromo']\n",
    "            chromo = chromo[:]\n",
    "            dist = f_in['inputs/cpg/GM12878_WGBS_1_sample_0/dist']\n",
    "            state = f_in['inputs/cpg/GM12878_WGBS_1_sample_0/state']\n",
    "            dna = f_in['inputs/dna']\n",
    "            outputs = f_in['outputs/cpg/GM12878_WGBS_1_sample_0']\n",
    "            pos = f_in['pos']\n",
    "            pos = pos[:]\n",
    "\n",
    "            f_out = h5.File(src_test_data_path+file, \"a\")                \n",
    "            grp1 = f_out.create_group('inputs')\n",
    "            grp2 = f_out.create_group('outputs')\n",
    "\n",
    "\n",
    "            f_out['chromo'] = chromo\n",
    "            grp1['cpg/GM12878_WGBS_1_ss/dist'] = dist[:]\n",
    "            grp1['cpg/GM12878_WGBS_1_ss/state'] = state[:]\n",
    "            grp1['dna'] = dna[:]\n",
    "            grp2['cpg/GM12878_WGBS_1_ss'] = outputs[:]\n",
    "            f_out['pos'] = pos\n",
    "\n",
    "            f_out.close()\n",
    "    print('test dataset created and saved to: ', src_test_data_path)"
   ]
  },
  {
   "cell_type": "code",
   "execution_count": 76,
   "metadata": {},
   "outputs": [
    {
     "name": "stdout",
     "output_type": "stream",
     "text": [
      "test dataset created and saved to:  /scratch/sdodl001/ENCODE/sampled_data/GM12878_2/dna_GM12878_1_ss_input/\n"
     ]
    }
   ],
   "source": [
    "create_testset(data_path, src_test_data_path)"
   ]
  },
  {
   "cell_type": "code",
   "execution_count": 47,
   "metadata": {},
   "outputs": [],
   "source": [
    "def sh_file_generator_eval(sh_file_path, model_path, test_data_path, src_test_data_path, out_path):\n",
    "    textList = [\"#!/bin/bash -l\", \n",
    "                    \"#SBATCH --ntasks=1\",\n",
    "                    \"#SBATCH -o ./err_log/eval_%j.out\",\n",
    "                    \"#SBATCH -e ./err_log/eval_%j.err\"]\n",
    "\n",
    "    make_dir(sh_file_path)\n",
    "    folders = os.listdir(model_path)\n",
    "    folders.sort()\n",
    "    for folder in folders:\n",
    "        if regex_match('^dna.', '*_ss$', folder):\n",
    "            #print('input_folder: ', folder)\n",
    "            sh_file_name = folder+'_eval.sh'\n",
    "            outF = open(sh_file_path+'/'+sh_file_name, \"w\")\n",
    "            for line in textList:\n",
    "                # write line to output file\n",
    "                outF.write(line)\n",
    "                outF.write(\"\\n\")\n",
    "\n",
    "            outF.write(\"\\n\")\n",
    "            outF.write(\"\\n\")\n",
    "            outF.write('python -u dcpg_eval.py ')\n",
    "\n",
    "            test_input_path = test_data_path+folder+'_input/'\n",
    "            make_dir(test_input_path)\n",
    "            move_files(src_test_data_path, test_input_path)\n",
    "            outF.write(test_input_path+'/c{2,4,6,8,10,12}_*.h5')\n",
    "\n",
    "            outF.write(' --model_files ')\n",
    "            outF.write(model_path+folder)\n",
    "\n",
    "            out_data_folder = folder+'_data'\n",
    "            make_dir(out_path+out_data_folder)\n",
    "            outF.write(' --out_data ')\n",
    "            outF.write(out_path+out_data_folder+'/data.h5')\n",
    "\n",
    "            out_report_folder = folder+'_report'\n",
    "            make_dir(out_path+out_report_folder)\n",
    "            outF.write(' --out_report ')\n",
    "            outF.write(out_path+out_report_folder+'/report.tsv')\n",
    "            outF.write(\"\\n\")\n",
    "\n",
    "            outF.close()\n",
    "            print(f'sh file {sh_file_name} is saved to {sh_file_path}')\n",
    "\n",
    "    print('Done !')"
   ]
  },
  {
   "cell_type": "code",
   "execution_count": 48,
   "metadata": {},
   "outputs": [
    {
     "name": "stdout",
     "output_type": "stream",
     "text": [
      "Created /scratch/sdodl001/ENCODE/sampled_data/GM12878_2/dna_0.1_frac_ss_input/ directory\n",
      "files moved from /scratch/sdodl001/ENCODE/sampled_data/GM12878_2/test_input_ss/ to /scratch/sdodl001/ENCODE/sampled_data/GM12878_2/dna_0.1_frac_ss_input/\n",
      "sh file dna_0.1_frac_ss_eval.sh is saved to /scratch/sdodl001/ENCODE/scripts/GM12878_ss_eval_job_files\n",
      "Created /scratch/sdodl001/ENCODE/sampled_data/GM12878_2/dna_0.2_frac_ss_input/ directory\n",
      "files moved from /scratch/sdodl001/ENCODE/sampled_data/GM12878_2/test_input_ss/ to /scratch/sdodl001/ENCODE/sampled_data/GM12878_2/dna_0.2_frac_ss_input/\n",
      "sh file dna_0.2_frac_ss_eval.sh is saved to /scratch/sdodl001/ENCODE/scripts/GM12878_ss_eval_job_files\n",
      "Created /scratch/sdodl001/ENCODE/sampled_data/GM12878_2/dna_0.3_frac_ss_input/ directory\n",
      "files moved from /scratch/sdodl001/ENCODE/sampled_data/GM12878_2/test_input_ss/ to /scratch/sdodl001/ENCODE/sampled_data/GM12878_2/dna_0.3_frac_ss_input/\n",
      "sh file dna_0.3_frac_ss_eval.sh is saved to /scratch/sdodl001/ENCODE/scripts/GM12878_ss_eval_job_files\n",
      "Created /scratch/sdodl001/ENCODE/sampled_data/GM12878_2/dna_0.4_frac_ss_input/ directory\n",
      "files moved from /scratch/sdodl001/ENCODE/sampled_data/GM12878_2/test_input_ss/ to /scratch/sdodl001/ENCODE/sampled_data/GM12878_2/dna_0.4_frac_ss_input/\n",
      "sh file dna_0.4_frac_ss_eval.sh is saved to /scratch/sdodl001/ENCODE/scripts/GM12878_ss_eval_job_files\n",
      "Created /scratch/sdodl001/ENCODE/sampled_data/GM12878_2/dna_0.5_frac_ss_input/ directory\n",
      "files moved from /scratch/sdodl001/ENCODE/sampled_data/GM12878_2/test_input_ss/ to /scratch/sdodl001/ENCODE/sampled_data/GM12878_2/dna_0.5_frac_ss_input/\n",
      "sh file dna_0.5_frac_ss_eval.sh is saved to /scratch/sdodl001/ENCODE/scripts/GM12878_ss_eval_job_files\n",
      "Created /scratch/sdodl001/ENCODE/sampled_data/GM12878_2/dna_0.6_frac_ss_input/ directory\n",
      "files moved from /scratch/sdodl001/ENCODE/sampled_data/GM12878_2/test_input_ss/ to /scratch/sdodl001/ENCODE/sampled_data/GM12878_2/dna_0.6_frac_ss_input/\n",
      "sh file dna_0.6_frac_ss_eval.sh is saved to /scratch/sdodl001/ENCODE/scripts/GM12878_ss_eval_job_files\n",
      "Created /scratch/sdodl001/ENCODE/sampled_data/GM12878_2/dna_0.7_frac_ss_input/ directory\n",
      "files moved from /scratch/sdodl001/ENCODE/sampled_data/GM12878_2/test_input_ss/ to /scratch/sdodl001/ENCODE/sampled_data/GM12878_2/dna_0.7_frac_ss_input/\n",
      "sh file dna_0.7_frac_ss_eval.sh is saved to /scratch/sdodl001/ENCODE/scripts/GM12878_ss_eval_job_files\n",
      "Created /scratch/sdodl001/ENCODE/sampled_data/GM12878_2/dna_0.8_frac_ss_input/ directory\n",
      "files moved from /scratch/sdodl001/ENCODE/sampled_data/GM12878_2/test_input_ss/ to /scratch/sdodl001/ENCODE/sampled_data/GM12878_2/dna_0.8_frac_ss_input/\n",
      "sh file dna_0.8_frac_ss_eval.sh is saved to /scratch/sdodl001/ENCODE/scripts/GM12878_ss_eval_job_files\n",
      "Created /scratch/sdodl001/ENCODE/sampled_data/GM12878_2/dna_0.9_frac_ss_input/ directory\n",
      "files moved from /scratch/sdodl001/ENCODE/sampled_data/GM12878_2/test_input_ss/ to /scratch/sdodl001/ENCODE/sampled_data/GM12878_2/dna_0.9_frac_ss_input/\n",
      "sh file dna_0.9_frac_ss_eval.sh is saved to /scratch/sdodl001/ENCODE/scripts/GM12878_ss_eval_job_files\n",
      "Created /scratch/sdodl001/ENCODE/sampled_data/GM12878_2/dna_GM12878_1_ss_input/ directory\n",
      "files moved from /scratch/sdodl001/ENCODE/sampled_data/GM12878_2/test_input_ss/ to /scratch/sdodl001/ENCODE/sampled_data/GM12878_2/dna_GM12878_1_ss_input/\n",
      "sh file dna_GM12878_1_ss_eval.sh is saved to /scratch/sdodl001/ENCODE/scripts/GM12878_ss_eval_job_files\n",
      "Done !\n"
     ]
    }
   ],
   "source": [
    "sh_file_generator_eval(sh_file_path, model_path, test_data_path, src_test_data_path, out_path)"
   ]
  },
  {
   "cell_type": "code",
   "execution_count": null,
   "metadata": {},
   "outputs": [],
   "source": []
  }
 ],
 "metadata": {
  "kernelspec": {
   "display_name": "Python 3",
   "language": "python",
   "name": "python3"
  },
  "language_info": {
   "codemirror_mode": {
    "name": "ipython",
    "version": 3
   },
   "file_extension": ".py",
   "mimetype": "text/x-python",
   "name": "python",
   "nbconvert_exporter": "python",
   "pygments_lexer": "ipython3",
   "version": "3.7.7"
  }
 },
 "nbformat": 4,
 "nbformat_minor": 4
}
