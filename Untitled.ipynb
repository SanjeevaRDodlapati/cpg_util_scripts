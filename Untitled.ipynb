{
 "cells": [
  {
   "cell_type": "code",
   "execution_count": null,
   "metadata": {},
   "outputs": [],
   "source": [
    "import os\n",
    "import re\n",
    "import numpy as np\n",
    "import pandas as pd\n",
    "import h5py as h5"
   ]
  },
  {
   "cell_type": "code",
   "execution_count": null,
   "metadata": {},
   "outputs": [],
   "source": []
  },
  {
   "cell_type": "code",
   "execution_count": null,
   "metadata": {},
   "outputs": [],
   "source": [
    "## CpG prediction for opposite strand from single strand results\n",
    "for folder in folders:\n",
    "    if regex_match('^dna.', '*_ss_data$', folder):\n",
    "        print('folder: ', folder)\n",
    "        files = os.listdir(input_path+folder)\n",
    "        for file in files:\n",
    "            match = re.match('^data', file)\n",
    "            if match!=None:\n",
    "                print('file: ', file)\n",
    "                file_path = input_path+folder+'/'+file\n",
    "                report_data = h5.File(file_path, 'r')\n",
    "                try:\n",
    "                    preds = report_data['preds/cpg/GM12878_WGBS_1_sample_0']\n",
    "                except KeyError:\n",
    "                    preds = report_data['preds/cpg/GM12878_WGBS_1_ss']\n",
    "                preds = preds[:]\n",
    "                \n",
    "                \n",
    "                \n",
    "print('Done !')  "
   ]
  }
 ],
 "metadata": {
  "kernelspec": {
   "display_name": "Python 3",
   "language": "python",
   "name": "python3"
  },
  "language_info": {
   "codemirror_mode": {
    "name": "ipython",
    "version": 3
   },
   "file_extension": ".py",
   "mimetype": "text/x-python",
   "name": "python",
   "nbconvert_exporter": "python",
   "pygments_lexer": "ipython3",
   "version": "3.7.7"
  }
 },
 "nbformat": 4,
 "nbformat_minor": 4
}
