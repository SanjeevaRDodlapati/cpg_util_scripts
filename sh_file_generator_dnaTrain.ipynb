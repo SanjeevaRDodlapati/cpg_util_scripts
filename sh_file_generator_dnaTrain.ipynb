{
 "cells": [
  {
   "cell_type": "code",
   "execution_count": 1,
   "metadata": {},
   "outputs": [],
   "source": [
    "import os\n",
    "import re"
   ]
  },
  {
   "cell_type": "code",
   "execution_count": 2,
   "metadata": {},
   "outputs": [],
   "source": [
    "sh_file_path = '/scratch/sdodl001/ENCODE/scripts/GM12878_dnaTrain_job_files/'"
   ]
  },
  {
   "cell_type": "code",
   "execution_count": 3,
   "metadata": {},
   "outputs": [],
   "source": [
    "data_path = '/scratch/sdodl001/ENCODE/sampled_data/GM12878_2/'\n",
    "folders = os.listdir(data_path)\n",
    "folders.sort()\n",
    "\n",
    "model_path = '/scratch/sdodl001/ENCODE/models/GM12878_2/'\n"
   ]
  },
  {
   "cell_type": "code",
   "execution_count": 4,
   "metadata": {},
   "outputs": [],
   "source": [
    "def make_dir(dir_path):\n",
    "    if not os.path.exists(dir_path):\n",
    "        print(f'Created {dir_path} directory')\n",
    "        os.makedirs(dir_path)"
   ]
  },
  {
   "cell_type": "code",
   "execution_count": 5,
   "metadata": {},
   "outputs": [],
   "source": [
    "\n",
    "def regex_match(start_with, end_with, folder):\n",
    "    m = re.search(start_with+end_with, folder)\n",
    "    if m!=None:\n",
    "        return True\n",
    "    else:\n",
    "        return False\n"
   ]
  },
  {
   "cell_type": "code",
   "execution_count": 6,
   "metadata": {},
   "outputs": [
    {
     "name": "stdout",
     "output_type": "stream",
     "text": [
      "sh file dna_.05_frac_1_ds.sh is saved to /scratch/sdodl001/ENCODE/scripts/GM12878_dnaTrain_job_files/\n",
      "sh file dna_.05_frac_2_ds.sh is saved to /scratch/sdodl001/ENCODE/scripts/GM12878_dnaTrain_job_files/\n",
      "sh file dna_.05_frac_3_ds.sh is saved to /scratch/sdodl001/ENCODE/scripts/GM12878_dnaTrain_job_files/\n",
      "sh file dna_.05_frac_4_ds.sh is saved to /scratch/sdodl001/ENCODE/scripts/GM12878_dnaTrain_job_files/\n",
      "sh file dna_.05_frac_5_ds.sh is saved to /scratch/sdodl001/ENCODE/scripts/GM12878_dnaTrain_job_files/\n",
      "sh file dna_0.1_frac_1_ds.sh is saved to /scratch/sdodl001/ENCODE/scripts/GM12878_dnaTrain_job_files/\n",
      "sh file dna_0.1_frac_2_ds.sh is saved to /scratch/sdodl001/ENCODE/scripts/GM12878_dnaTrain_job_files/\n",
      "sh file dna_0.1_frac_3_ds.sh is saved to /scratch/sdodl001/ENCODE/scripts/GM12878_dnaTrain_job_files/\n",
      "sh file dna_0.1_frac_4_ds.sh is saved to /scratch/sdodl001/ENCODE/scripts/GM12878_dnaTrain_job_files/\n",
      "sh file dna_0.1_frac_5_ds.sh is saved to /scratch/sdodl001/ENCODE/scripts/GM12878_dnaTrain_job_files/\n",
      "sh file dna_0.2_frac_1_ds.sh is saved to /scratch/sdodl001/ENCODE/scripts/GM12878_dnaTrain_job_files/\n",
      "sh file dna_0.2_frac_2_ds.sh is saved to /scratch/sdodl001/ENCODE/scripts/GM12878_dnaTrain_job_files/\n",
      "sh file dna_0.2_frac_3_ds.sh is saved to /scratch/sdodl001/ENCODE/scripts/GM12878_dnaTrain_job_files/\n",
      "sh file dna_0.2_frac_4_ds.sh is saved to /scratch/sdodl001/ENCODE/scripts/GM12878_dnaTrain_job_files/\n",
      "sh file dna_0.2_frac_5_ds.sh is saved to /scratch/sdodl001/ENCODE/scripts/GM12878_dnaTrain_job_files/\n",
      "sh file dna_0.3_frac_1_ds.sh is saved to /scratch/sdodl001/ENCODE/scripts/GM12878_dnaTrain_job_files/\n",
      "sh file dna_0.3_frac_2_ds.sh is saved to /scratch/sdodl001/ENCODE/scripts/GM12878_dnaTrain_job_files/\n",
      "sh file dna_0.3_frac_3_ds.sh is saved to /scratch/sdodl001/ENCODE/scripts/GM12878_dnaTrain_job_files/\n",
      "sh file dna_0.3_frac_4_ds.sh is saved to /scratch/sdodl001/ENCODE/scripts/GM12878_dnaTrain_job_files/\n",
      "sh file dna_0.3_frac_5_ds.sh is saved to /scratch/sdodl001/ENCODE/scripts/GM12878_dnaTrain_job_files/\n",
      "sh file dna_0.4_frac_1_ds.sh is saved to /scratch/sdodl001/ENCODE/scripts/GM12878_dnaTrain_job_files/\n",
      "sh file dna_0.4_frac_2_ds.sh is saved to /scratch/sdodl001/ENCODE/scripts/GM12878_dnaTrain_job_files/\n",
      "sh file dna_0.4_frac_3_ds.sh is saved to /scratch/sdodl001/ENCODE/scripts/GM12878_dnaTrain_job_files/\n",
      "sh file dna_0.4_frac_4_ds.sh is saved to /scratch/sdodl001/ENCODE/scripts/GM12878_dnaTrain_job_files/\n",
      "sh file dna_0.4_frac_5_ds.sh is saved to /scratch/sdodl001/ENCODE/scripts/GM12878_dnaTrain_job_files/\n",
      "sh file dna_0.5_frac_1_ds.sh is saved to /scratch/sdodl001/ENCODE/scripts/GM12878_dnaTrain_job_files/\n",
      "sh file dna_0.5_frac_2_ds.sh is saved to /scratch/sdodl001/ENCODE/scripts/GM12878_dnaTrain_job_files/\n",
      "sh file dna_0.5_frac_3_ds.sh is saved to /scratch/sdodl001/ENCODE/scripts/GM12878_dnaTrain_job_files/\n",
      "sh file dna_0.5_frac_4_ds.sh is saved to /scratch/sdodl001/ENCODE/scripts/GM12878_dnaTrain_job_files/\n",
      "sh file dna_0.5_frac_5_ds.sh is saved to /scratch/sdodl001/ENCODE/scripts/GM12878_dnaTrain_job_files/\n",
      "sh file dna_0.6_frac_1_ds.sh is saved to /scratch/sdodl001/ENCODE/scripts/GM12878_dnaTrain_job_files/\n",
      "sh file dna_0.6_frac_2_ds.sh is saved to /scratch/sdodl001/ENCODE/scripts/GM12878_dnaTrain_job_files/\n",
      "sh file dna_0.6_frac_3_ds.sh is saved to /scratch/sdodl001/ENCODE/scripts/GM12878_dnaTrain_job_files/\n",
      "sh file dna_0.6_frac_4_ds.sh is saved to /scratch/sdodl001/ENCODE/scripts/GM12878_dnaTrain_job_files/\n",
      "sh file dna_0.6_frac_5_ds.sh is saved to /scratch/sdodl001/ENCODE/scripts/GM12878_dnaTrain_job_files/\n",
      "sh file dna_0.7_frac_1_ds.sh is saved to /scratch/sdodl001/ENCODE/scripts/GM12878_dnaTrain_job_files/\n",
      "sh file dna_0.7_frac_2_ds.sh is saved to /scratch/sdodl001/ENCODE/scripts/GM12878_dnaTrain_job_files/\n",
      "sh file dna_0.7_frac_3_ds.sh is saved to /scratch/sdodl001/ENCODE/scripts/GM12878_dnaTrain_job_files/\n",
      "sh file dna_0.7_frac_4_ds.sh is saved to /scratch/sdodl001/ENCODE/scripts/GM12878_dnaTrain_job_files/\n",
      "sh file dna_0.7_frac_5_ds.sh is saved to /scratch/sdodl001/ENCODE/scripts/GM12878_dnaTrain_job_files/\n",
      "sh file dna_0.8_frac_1_ds.sh is saved to /scratch/sdodl001/ENCODE/scripts/GM12878_dnaTrain_job_files/\n",
      "sh file dna_0.8_frac_2_ds.sh is saved to /scratch/sdodl001/ENCODE/scripts/GM12878_dnaTrain_job_files/\n",
      "sh file dna_0.8_frac_3_ds.sh is saved to /scratch/sdodl001/ENCODE/scripts/GM12878_dnaTrain_job_files/\n",
      "sh file dna_0.8_frac_4_ds.sh is saved to /scratch/sdodl001/ENCODE/scripts/GM12878_dnaTrain_job_files/\n",
      "sh file dna_0.8_frac_5_ds.sh is saved to /scratch/sdodl001/ENCODE/scripts/GM12878_dnaTrain_job_files/\n",
      "sh file dna_0.9_frac_1_ds.sh is saved to /scratch/sdodl001/ENCODE/scripts/GM12878_dnaTrain_job_files/\n",
      "sh file dna_0.9_frac_2_ds.sh is saved to /scratch/sdodl001/ENCODE/scripts/GM12878_dnaTrain_job_files/\n",
      "sh file dna_0.9_frac_3_ds.sh is saved to /scratch/sdodl001/ENCODE/scripts/GM12878_dnaTrain_job_files/\n",
      "sh file dna_0.9_frac_4_ds.sh is saved to /scratch/sdodl001/ENCODE/scripts/GM12878_dnaTrain_job_files/\n",
      "sh file dna_0.9_frac_5_ds.sh is saved to /scratch/sdodl001/ENCODE/scripts/GM12878_dnaTrain_job_files/\n",
      "Done !\n"
     ]
    }
   ],
   "source": [
    "def sh_file_generator_dnaTrain(data_path, model_path, sh_file_path, ):\n",
    "    folders = os.listdir(data_path)\n",
    "    folders.sort()\n",
    "    for folder in folders:\n",
    "        if regex_match('^.', '*input$', folder):\n",
    "            #print('input_folder: ', folder)\n",
    "            sh_file_name = 'dna_'+folder[:-6]+'.sh'\n",
    "            model_folder = sh_file_name[:-3]\n",
    "            model_out_path = model_path+model_folder\n",
    "            make_dir(model_out_path)\n",
    "\n",
    "            textList = [\"#!/bin/bash -l\", \n",
    "                    \"#SBATCH --partition=gpu\",\n",
    "                    \"#SBATCH --gres=gpu:4\",\n",
    "                    \"#SBATCH -o ./err_log/eval_%j.out\",\n",
    "                    \"#SBATCH -e ./err_log/eval_%j.err\"]\n",
    "\n",
    "\n",
    "            outF = open(sh_file_path+sh_file_name, \"w\")\n",
    "            for line in textList:\n",
    "                # write line to output file\n",
    "                outF.write(line)\n",
    "                outF.write(\"\\n\")\n",
    "\n",
    "            outF.write(\"\\n\")\n",
    "            outF.write(\"\\n\")\n",
    "            outF.write('python -u dcpg_train.py ') \n",
    "            outF.write(data_path+folder+'/c{1,3,5,7,9,11}_*.h5 ') \n",
    "            outF.write('--val_files ')\n",
    "            outF.write(data_path+folder+'/c{13,14,15,16,17,18,19}_*.h5 ')\n",
    "            outF.write('--dna_model CnnL2h128 ')\n",
    "            outF.write(' --out_dir ')\n",
    "            outF.write(model_out_path) \n",
    "            outF.write(\"\\n\")\n",
    "\n",
    "            outF.close()\n",
    "            print(f'sh file {sh_file_name} is saved to {sh_file_path}')\n",
    "\n",
    "    print('Done !')"
   ]
  },
  {
   "cell_type": "code",
   "execution_count": null,
   "metadata": {},
   "outputs": [],
   "source": []
  }
 ],
 "metadata": {
  "kernelspec": {
   "display_name": "Python 3",
   "language": "python",
   "name": "python3"
  },
  "language_info": {
   "codemirror_mode": {
    "name": "ipython",
    "version": 3
   },
   "file_extension": ".py",
   "mimetype": "text/x-python",
   "name": "python",
   "nbconvert_exporter": "python",
   "pygments_lexer": "ipython3",
   "version": "3.7.7"
  }
 },
 "nbformat": 4,
 "nbformat_minor": 4
}
